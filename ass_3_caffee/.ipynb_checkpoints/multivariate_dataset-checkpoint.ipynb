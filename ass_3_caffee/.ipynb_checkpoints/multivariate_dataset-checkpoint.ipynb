{
 "cells": [
  {
   "cell_type": "code",
   "execution_count": null,
   "metadata": {
    "collapsed": false
   },
   "outputs": [],
   "source": [
    "get_ipython().magic(u'matplotlib inline')\n",
    "import numpy as np\n",
    "import matplotlib.pyplot as plt\n",
    "\n",
    "# for the same classes every time\n",
    "#np.random.seed(9)\n",
    "# size[0] - number of points\n",
    "# size[1] - dimesion of points\n",
    "n_classes=5\n",
    "dimension=2\n",
    "examples=200\n",
    "# centers around which patterns will be distributed\n",
    "means = np.random.uniform(1, 50, size=(n_classes, dimension))\n",
    "# covariance matrices for each of classes\n",
    "#stds = np.random.uniform(0, 0.2, size=n_classes)\n",
    "covs = np.random.uniform(1, 5, size=(n_classes, dimension, dimension))\n",
    "# generate array of n_classes arrays, each contains examples number of points\n",
    "X = [np.random.multivariate_normal(mean, cov, examples) for mean, cov in zip(means, covs)]\n",
    "X = np.vstack(X)\n",
    "# generate array of three arrays for labeling\n",
    "C = [[i] * examples for i in xrange(n_classes)]\n",
    "C = np.ravel(C)\n",
    "\n",
    "plt.figure()\n",
    "plt.scatter(X[:,0], X[:,1], c=C)\n",
    "\n",
    "np.savetxt('dataset.txt', X, fmt='%6.3f')\n",
    "np.savetxt('classes.txt', C, fmt='%1.0f')\n",
    "\n",
    "tests = 5\n",
    "Xt = [np.random.multivariate_normal(mean, cov, tests) for mean, cov in zip(means, covs)]\n",
    "Xt = np.vstack(Xt)\n",
    "Ct = [[i] * tests for i in xrange(n_classes)]\n",
    "Ct = np.ravel(Ct)\n",
    "plt.figure()\n",
    "plt.scatter(Xt[:,0], Xt[:,1], c=Ct)\n",
    "np.savetxt('test_dataset.txt', Xt, fmt='%6.3f')"
   ]
  },
  {
   "cell_type": "code",
   "execution_count": null,
   "metadata": {
    "collapsed": false
   },
   "outputs": [],
   "source": [
    "test_data = np.loadtxt('test_dataset3.txt')\n",
    "test_data = np.transpose(np.delete(test_data, (0), axis=0))\n",
    "\n",
    "result = np.loadtxt('result.txt')\n",
    "result = [ int(x) for x in result ]\n",
    "\n",
    "plt.scatter(test_data[0], test_data[1], c=result)"
   ]
  },
  {
   "cell_type": "code",
   "execution_count": null,
   "metadata": {
    "collapsed": false
   },
   "outputs": [],
   "source": []
  },
  {
   "cell_type": "code",
   "execution_count": null,
   "metadata": {
    "collapsed": false
   },
   "outputs": [],
   "source": []
  }
 ],
 "metadata": {
  "kernelspec": {
   "display_name": "Python 2",
   "language": "python",
   "name": "python2"
  },
  "language_info": {
   "codemirror_mode": {
    "name": "ipython",
    "version": 2
   },
   "file_extension": ".py",
   "mimetype": "text/x-python",
   "name": "python",
   "nbconvert_exporter": "python",
   "pygments_lexer": "ipython2",
   "version": "2.7.6"
  }
 },
 "nbformat": 4,
 "nbformat_minor": 0
}
