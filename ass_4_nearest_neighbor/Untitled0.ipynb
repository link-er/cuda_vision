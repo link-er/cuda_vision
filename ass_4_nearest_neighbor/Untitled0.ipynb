{
 "metadata": {
  "name": ""
 },
 "nbformat": 3,
 "nbformat_minor": 0,
 "worksheets": [
  {
   "cells": [
    {
     "cell_type": "code",
     "collapsed": false,
     "input": [
      "%matplotlib inline\n",
      "import numpy as np\n",
      "import matplotlib.pyplot as plt\n",
      "import lmdb\n",
      "caffe_root = '/home/stud/adilova/caffe/caffe-rc2/'\n",
      "import sys\n",
      "sys.path.insert(0, caffe_root + 'python')\n",
      "import caffe\n",
      "\n",
      "# Open lmdb dataset files\n",
      "mnist_path = caffe_root + 'examples/mnist/'\n",
      "dir_train = mnist_path + 'mnist_train_lmdb'\n",
      "dir_test = mnist_path + 'mnist_test_lmdb'\n",
      "env_train = lmdb.open(dir_train, readonly=True)\n",
      "env_test = lmdb.open(dir_test, readonly=True)\n",
      "\n",
      "# Get items of dataset in lmdb and save into a serialized string by calling its 8-byte index \n",
      "# (00000000 to 00059999 for training set,  00000000 to 00009999 for test set)\n",
      "with env_train.begin() as txn:\n",
      "    start_train = txn.get('00000000')\n",
      "    end_train = txn.get('00059999')\n",
      "with env_test.begin() as txn:\n",
      "    start_test = txn.get('00000000')\n",
      "    end_test = txn.get('00009999')\n",
      "\n",
      "# datum can interpret the serialized string and be initialized by using ParseFromString method\n",
      "datum_train_start = caffe.proto.caffe_pb2.Datum()\n",
      "datum_train_start.ParseFromString(start_train)\n",
      "\n",
      "# make a 28x28 array image from the datum\n",
      "flat_x = np.fromstring(datum_train_start.data, dtype=np.uint8)\n",
      "x = flat_x.reshape(datum_train_start.height, datum_train_start.width) \n",
      "x.shape\n",
      "\n",
      "# check also the label of the datum\n",
      "datum_train_start.label\n",
      "\n",
      "# visualize the image\n",
      "plt.rcParams['image.interpolation'] = 'none'\n",
      "plt.imshow(x)"
     ],
     "language": "python",
     "metadata": {},
     "outputs": [
      {
       "metadata": {},
       "output_type": "pyout",
       "prompt_number": 6,
       "text": [
        "<matplotlib.image.AxesImage at 0x7f96b72056d0>"
       ]
      },
      {
       "metadata": {},
       "output_type": "display_data",
       "png": "[encoded data removed]",
       "text": [
        "<matplotlib.figure.Figure at 0x7f96deb2a1d0>"
       ]
      }
     ],
     "prompt_number": 6
    },
    {
     "cell_type": "code",
     "collapsed": false,
     "input": [],
     "language": "python",
     "metadata": {},
     "outputs": [],
     "prompt_number": 4
    },
    {
     "cell_type": "code",
     "collapsed": false,
     "input": [],
     "language": "python",
     "metadata": {},
     "outputs": []
    }
   ],
   "metadata": {}
  }
 ]
}